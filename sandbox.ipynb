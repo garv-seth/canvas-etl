{
 "cells": [
  {
   "cell_type": "code",
   "execution_count": null,
   "metadata": {},
   "outputs": [],
   "source": [
    "import logging\n",
    "import requests\n",
    "import os\n",
    "\n",
    "base_url = os.getenv(\"CANVAS_BASE_URL\")\n",
    "auth_token = os.getenv(\"CANVAS_ACCESS_TOKEN\")"
   ]
  },
  {
   "cell_type": "code",
   "execution_count": null,
   "metadata": {},
   "outputs": [],
   "source": [
    "done = False\n",
    "per_page = 100\n",
    "url = f'https://coolschool.instructure.com/api/v1/users/123'\n",
    "enrollments = list()\n",
    "\n",
    "while not done:\n",
    "\n",
    "    response = requests.get(\n",
    "        url,\n",
    "        headers={'Authorization' : f'Bearer {auth_token}'})\n",
    "    \n",
    "    if isinstance(response.json(), list):\n",
    "        logging.info(f'Retrieved  {len(response.json())} enrollments')\n",
    "        enrollments = enrollments + response.json()\n",
    "    else:\n",
    "        print(type(response.json()))\n",
    "\n",
    "    print(response.json())\n",
    "\n",
    "    if 'next' in response.links and response.links['current']['url'] != response.links['next']['url']:\n",
    "        url = response.links['next']['url']\n",
    "    elif 'last' in response.links and response.links['current']['url'] != response.links['last']['url']:\n",
    "        url = response.links['last']['url']\n",
    "    else:\n",
    "        done = True\n"
   ]
  },
  {
   "cell_type": "code",
   "execution_count": null,
   "metadata": {},
   "outputs": [],
   "source": [
    "response.links"
   ]
  },
  {
   "cell_type": "code",
   "execution_count": null,
   "metadata": {},
   "outputs": [],
   "source": [
    "\n",
    "response.links['next']['url']"
   ]
  },
  {
   "cell_type": "code",
   "execution_count": null,
   "metadata": {},
   "outputs": [],
   "source": [
    "response.status_code"
   ]
  },
  {
   "cell_type": "code",
   "execution_count": null,
   "metadata": {},
   "outputs": [],
   "source": [
    "type(list())"
   ]
  }
 ],
 "metadata": {
  "interpreter": {
   "hash": "4cd7ab41f5fca4b9b44701077e38c5ffd31fe66a6cab21e0214b68d958d0e462"
  },
  "kernelspec": {
   "display_name": "Python 3.7.11 64-bit ('local')",
   "name": "python3"
  },
  "language_info": {
   "name": "python",
   "version": ""
  },
  "orig_nbformat": 2
 },
 "nbformat": 4,
 "nbformat_minor": 2
}